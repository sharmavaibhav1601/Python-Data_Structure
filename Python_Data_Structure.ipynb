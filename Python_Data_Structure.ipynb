{
  "nbformat": 4,
  "nbformat_minor": 0,
  "metadata": {
    "colab": {
      "provenance": []
    },
    "kernelspec": {
      "name": "python3",
      "display_name": "Python 3"
    },
    "language_info": {
      "name": "python"
    }
  },
  "cells": [
    {
      "cell_type": "markdown",
      "source": [
        "# Python - Data Structure\n"
      ],
      "metadata": {
        "id": "SaJh2IwmnGYp"
      }
    },
    {
      "cell_type": "markdown",
      "source": [
        "#Data Types and Structures Questions\n",
        "# 1.What are data structures, and why are they important?\n",
        "Answer: Data structures are specialized formats for organizing, managing, and storing data in a computer. They are important because they enable efficient data access and manipulation, which is crucial for optimizing performance in algorithms and applications. Proper data structures can lead to more efficient algorithms, reducing the time and space complexity of operations.\n",
        "\n",
        "#2.Explain the difference between mutable and immutable data types with examples.\n",
        "Answer:\n",
        "Mutable data types can be changed after their creation.\n",
        "Example: Lists in Python are mutable. You can modify them by adding, removing, or changing elements.\n",
        "\n",
        "my_list = [1, 2, 3]\n",
        "my_list.append(4)   \n",
        "# Now my_list is [1, 2, 3, 4]\n",
        "\n",
        "Immutable data types cannot be changed after their creation.\n",
        "Example: Tuples in Python are immutable. Once created, their contents cannot be modified.\n",
        "\n",
        "\n",
        "my_tuple = (1, 2, 3)\n",
        " my_tuple[0] = 4  \n",
        " # This will raise a TypeError\n",
        "\n",
        "#3.What are the main differences between lists and tuples in Python?\n",
        "Answer:Mutability: Lists are mutable, while tuples are immutable.\n",
        "Syntax: Lists are defined using square brackets [], while tuples use parentheses ().\n",
        "Methods: Lists have more built-in methods than tuples, allowing for more operations (e.g., append, remove).\n",
        "\n",
        "#4.Describe how dictionaries store data.\n",
        "Answer: Dictionaries store data in key-value pairs. Each key is unique and maps to a corresponding value. This allows for fast access to values based on their keys. Internally, dictionaries are implemented using hash tables, which provide efficient lookups.\n",
        "\n",
        "#5.Why might you use a set instead of a list in Python?\n",
        "Answer: Sets are used when you need to store unique elements and do not care about the order. They automatically handle duplicate values and provide faster membership testing compared to lists. This makes sets ideal for operations that require uniqueness.\n",
        "\n",
        "#6.What is a string in Python, and how is it different from a list?\n",
        "Answer: A string is a sequence of characters enclosed in quotes. Unlike lists, strings are immutable, meaning their contents cannot be changed after creation. Lists can contain multiple data types and are mutable, allowing for modifications.\n",
        "\n",
        "#7.How do tuples ensure data integrity in Python?\n",
        "Answer: Tuples are immutable, which means that once they are created, their contents cannot be changed. This immutability ensures that the data remains constant and prevents accidental modifications, making tuples suitable for storing fixed collections of related items.\n",
        "\n",
        "#8.What is a hash table, and how does it relate to dictionaries in Python?\n",
        "Answer: A hash table is a data structure that maps keys to values using a hash function to compute an index. In Python, dictionaries are implemented as hash tables, allowing for efficient key-value pair storage and retrieval. This enables average-case O(1) time complexity for lookups.\n",
        "\n",
        "#9. Can lists contain different data types in Python?\n",
        "Answer: Yes, lists in Python can contain elements of different data types.\n",
        "Example:\n",
        "\n",
        "mixed_list = [1, \"two\", 3.0, True]  # A list with mixed data types\n",
        "\n",
        "#10.Explain why strings are immutable in Python.\n",
        "Answer: Strings are immutable to ensure data integrity and security. This prevents accidental changes to string values, making them reliable for use as keys in dictionaries and in multi-threaded environments. Immutability also allows for optimizations in memory usage.\n",
        "\n",
        "#11.What advantages do dictionaries offer over lists for certain tasks?\n",
        "Answer: Dictionaries provide faster lookups for values based on unique keys, allow for easy data retrieval without needing to search through a list, and can store complex data structures. They are particularly useful when you need to associate values with unique identifiers.\n",
        "\n",
        "#12.Describe a scenario where using a tuple would be preferable over a list.\n",
        "Answer: Tuples are preferable when you need to store a fixed collection of related items that should not change, such as coordinates (x, y) or RGB color values (red, green, blue). For example, representing a point in 2D space can be done using a tuple:\n",
        "\n",
        "point = (3, 4)  # Fixed coordinates\n",
        " #13.How do sets handle duplicate values in Python?\n",
        "Answer: Sets automatically remove duplicate values. If you try to add a duplicate element to a set, it will not be included.\n",
        "Example:\n",
        "\n",
        "my_set = {1, 2, 2, 3}\n",
        "print(my_set)  # Output: {1, 2, 3}\n",
        "\n",
        "#14.How does the “in” keyword work differently for lists and dictionaries?\n",
        "Answer: For lists, the in keyword checks for the presence of an element in the list. For dictionaries, it checks for the presence of a key.\n",
        "Example:\n",
        "\n",
        "my_list = [1, 2, 3]\n",
        "print(2 in my_list)  # Output: True\n",
        "\n",
        "my_dict = {'a': 1, 'b': 2}\n",
        "print('a' in my_dict)  # Output: True\n",
        "\n",
        "#15.Can you modify the elements of a tuple? Explain why or why not.\n",
        "Answer: No, you cannot modify the elements of a tuple because tuples are immutable. Once created, their contents cannot be changed. This design choice helps maintain data integrity and prevents accidental modifications.They can also be used as keys in dictionaries due to their immutable nature.\n",
        "\n",
        "#16.What is a nested dictionary, and give an example of its use case.\n",
        "Answer: A nested dictionary is a dictionary that contains other dictionaries as values.\n",
        "Example:\n",
        "\n",
        "nested_dict = {\n",
        "    'student1': {'name': 'Alice', 'age': 20},\n",
        "    'student2': {'name': 'Bob', 'age': 22}\n",
        "}\n",
        "# Use case: Storing multiple students' information\n",
        "\n",
        "#17.Describe the time complexity of accessing elements in a dictionary.\n",
        "Answer: The average time complexity for accessing elements in a dictionary is O(1) due to the underlying hash table implementation. This allows for efficient key-based lookups.\n",
        "\n",
        "#18.In what situations are lists preferred over dictionaries?\n",
        "Answer: Lists are preferred when you need to maintain order, allow duplicates, or perform operations that require indexing, such as slicing. They are also useful when the data is sequential and does not require key-value associations.\n",
        "\n",
        "#19.Why are dictionaries considered unordered, and how does that affect data retrieval?\n",
        "Answer: Dictionaries are considered unordered because the keys do not have a fixed order. This means that when retrieving data, you must use the key rather than relying on the order of elements. This design allows for efficient lookups but requires that you know the key to access the corresponding value.\n",
        "\n",
        "#20.Explain the difference between a list and a dictionary in terms of data retrieval.\n",
        "Answer: In a list, data is retrieved using an index (position), while in a dictionary, data is retrieved using a unique key. Lists maintain order, allowing for indexed access, whereas dictionaries do not maintain order and require key-based access."
      ],
      "metadata": {
        "id": "sBct8JQrnLWW"
      }
    },
    {
      "cell_type": "markdown",
      "source": [
        "#Practical Questions"
      ],
      "metadata": {
        "id": "KlEAcvuQuRXI"
      }
    },
    {
      "cell_type": "code",
      "source": [
        "#1.Write a code to create a string with your name and print it.\n",
        "name = \"Vaibhav Sharma\"\n",
        "print(name)"
      ],
      "metadata": {
        "id": "dtENrE9LuWeB"
      },
      "execution_count": null,
      "outputs": []
    },
    {
      "cell_type": "code",
      "source": [
        "#2.Write a code to find the length of the string \"Hello World\".\n",
        "\n",
        "length = len(\"Hello World\")\n",
        "print(length)"
      ],
      "metadata": {
        "id": "rOyK1ZH8vACa"
      },
      "execution_count": null,
      "outputs": []
    },
    {
      "cell_type": "code",
      "source": [
        "#3. Write a code to slice the first 3 characters from the string \"Python Programming\".\n",
        "string = \"Python Programming\"\n",
        "string= string[:3]\n",
        "print(string)"
      ],
      "metadata": {
        "id": "ic4zWpgPvLWk"
      },
      "execution_count": null,
      "outputs": []
    },
    {
      "cell_type": "code",
      "source": [
        "#4. Write a code to convert the string \"hello\" to uppercase.\n",
        "string = \"hello\".upper()\n",
        "print(string)"
      ],
      "metadata": {
        "id": "kiriHVPpxDRH"
      },
      "execution_count": null,
      "outputs": []
    },
    {
      "cell_type": "code",
      "source": [
        "#5.Write a code to replace the word \"apple\" with \"orange\" in the string \"I like apple\".\n",
        "replaced = \"I like apple\".replace(\"apple\", \"orange\")\n",
        "print(replaced)\n"
      ],
      "metadata": {
        "id": "YNvr5-TCxZzq"
      },
      "execution_count": null,
      "outputs": []
    },
    {
      "cell_type": "code",
      "source": [
        "#6.Write a code to create a list with numbers 1 to 5 and print it.\n",
        "\n",
        "number_list = [1, 2, 3, 4, 5]\n",
        "print(number_list)"
      ],
      "metadata": {
        "collapsed": true,
        "id": "KhqBUrmRxxua"
      },
      "execution_count": null,
      "outputs": []
    },
    {
      "cell_type": "code",
      "source": [
        "#7.Write a code to append the number 10 to the list [1, 2, 3, 4].\n",
        "\n",
        "my_list = [1, 2, 3, 4]\n",
        "my_list.append(10)\n",
        "print(my_list)"
      ],
      "metadata": {
        "id": "5Hr5coVyx6f0"
      },
      "execution_count": null,
      "outputs": []
    },
    {
      "cell_type": "code",
      "source": [
        "#8.Write a code to remove the number 3 from the list [1, 2, 3, 4, 5].\n",
        "\n",
        "my_list = [1, 2, 3, 4, 5]\n",
        "my_list.remove(3)\n",
        "print(my_list)"
      ],
      "metadata": {
        "id": "GG0DUhH5yCuQ"
      },
      "execution_count": null,
      "outputs": []
    },
    {
      "cell_type": "code",
      "source": [
        "#9.Write a code to access the second element in the list ['a', 'b', 'c', 'd'].\n",
        "\n",
        "my_list = ['a', 'b', 'c', 'd']\n",
        "second_element = my_list[1]\n",
        "print(second_element)"
      ],
      "metadata": {
        "id": "D2l-6Ra7y5lI"
      },
      "execution_count": null,
      "outputs": []
    },
    {
      "cell_type": "code",
      "source": [
        "#10.Write a code to reverse the list [10, 20, 30, 40, 50].\n",
        "\n",
        "my_list = [10, 20, 30, 40, 50]\n",
        "my_list.reverse()\n",
        "print(my_list)"
      ],
      "metadata": {
        "id": "dxkJJseNzP5G"
      },
      "execution_count": null,
      "outputs": []
    },
    {
      "cell_type": "code",
      "source": [
        "#11. Write a code to create a tuple with the elements 10, 20, 30 and print it.\n",
        "\n",
        "my_tuple = (10, 20, 30)\n",
        "print(my_tuple)"
      ],
      "metadata": {
        "id": "gQ2pEDWIzXmf"
      },
      "execution_count": null,
      "outputs": []
    },
    {
      "cell_type": "code",
      "source": [
        "#12. Write a code to access the first element of the tuple ('apple', 'banana', 'cherry').\n",
        "\n",
        "my_tuple = ('apple', 'banana', 'cherry')\n",
        "first_element = my_tuple[0]\n",
        "print(first_element)"
      ],
      "metadata": {
        "id": "ZluikezXzgqH"
      },
      "execution_count": null,
      "outputs": []
    },
    {
      "cell_type": "code",
      "source": [
        "#13.Write a code to count how many times the number 2 appears in the tuple (1, 2, 3, 2, 4, 2).\n",
        "\n",
        "my_tuple = (1, 2, 3, 2, 4, 2)\n",
        "count_of_twos = my_tuple.count(2)\n",
        "print(count_of_twos)"
      ],
      "metadata": {
        "id": "MXXl22ILzo8o"
      },
      "execution_count": null,
      "outputs": []
    },
    {
      "cell_type": "code",
      "source": [
        "#14.Write a code to find the index of the element \"cat\" in the tuple ('dog', 'cat', 'rabbit').\n",
        "\n",
        "my_tuple = ('dog', 'cat', 'rabbit')\n",
        "index_of_cat = my_tuple.index('cat')\n",
        "print(index_of_cat)"
      ],
      "metadata": {
        "id": "RK0-76L7z6xJ"
      },
      "execution_count": null,
      "outputs": []
    },
    {
      "cell_type": "code",
      "source": [
        "#15. Write a code to check if the element \"banana\" is in the tuple ('apple', 'orange', 'banana').\n",
        "\n",
        "my_tuple = ('apple', 'orange', 'banana')\n",
        "is_banana_present = 'banana' in my_tuple\n",
        "print(is_banana_present)"
      ],
      "metadata": {
        "id": "wjKkg5U70D9I"
      },
      "execution_count": null,
      "outputs": []
    },
    {
      "cell_type": "code",
      "source": [
        "#16.Write a code to create a set with the elements 1, 2, 3, 4, 5 and print it.\n",
        "my_set = {1, 2, 3, 4, 5}\n",
        "print(my_set)"
      ],
      "metadata": {
        "id": "-DNHnZ050MZG"
      },
      "execution_count": null,
      "outputs": []
    },
    {
      "cell_type": "code",
      "source": [
        "#17.Write a code to add the element 6 to the set {1, 2, 3, 4}.\n",
        "\n",
        "my_set = {1, 2, 3, 4}\n",
        "my_set.add(6)\n",
        "print(my_set)"
      ],
      "metadata": {
        "id": "yLdf_BLI0g-z"
      },
      "execution_count": null,
      "outputs": []
    },
    {
      "cell_type": "code",
      "source": [
        "#18.Write a code to create a tuple with the elements 10, 20, 30 and print it.\n",
        "\n",
        "my_tuple = (10, 20, 30)\n",
        "print(my_tuple)"
      ],
      "metadata": {
        "id": "K61vyYvL0onX"
      },
      "execution_count": null,
      "outputs": []
    },
    {
      "cell_type": "code",
      "source": [
        "#19.Write a code to access the first element of the tuple ('apple', 'banana', 'cherry').\n",
        "\n",
        "my_tuple = ('apple', 'banana', 'cherry')\n",
        "first_element = my_tuple[0]\n",
        "print(first_element)"
      ],
      "metadata": {
        "id": "ir1ueZzI0tTI"
      },
      "execution_count": null,
      "outputs": []
    },
    {
      "cell_type": "code",
      "source": [
        "#20.Write a code to count how many times the number 2 appears in the tuple (1, 2, 3, 2, 4, 2).\n",
        "\n",
        "my_tuple = (1, 2, 3, 2, 4, 2)\n",
        "count_of_twos = my_tuple.count(2)\n",
        "print(count_of_twos)"
      ],
      "metadata": {
        "id": "gGx7pS4U049s"
      },
      "execution_count": null,
      "outputs": []
    },
    {
      "cell_type": "code",
      "source": [
        "#21.Write a code to find the index of the element \"cat\" in the tuple ('dog', 'cat', 'rabbit').\n",
        "\n",
        "my_tuple = ('dog', 'cat', 'rabbit')\n",
        "index_of_cat = my_tuple.index('cat')\n",
        "print(index_of_cat)"
      ],
      "metadata": {
        "id": "CI2q6VdM1GN6"
      },
      "execution_count": null,
      "outputs": []
    },
    {
      "cell_type": "code",
      "source": [
        "#22. Write a code to check if the element \"banana\" is in the tuple ('apple', 'orange', 'banana').\n",
        "\n",
        "my_tuple = ('apple', 'orange', 'banana')\n",
        "is_banana_present = 'banana' in my_tuple\n",
        "print(is_banana_present)"
      ],
      "metadata": {
        "id": "nhs7xmkz1bkj"
      },
      "execution_count": null,
      "outputs": []
    },
    {
      "cell_type": "code",
      "source": [
        "#23.Write a code to create a set with the elements 1, 2, 3, 4, 5 and print it.\n",
        "\n",
        "my_set = {1, 2, 3, 4, 5}\n",
        "print(my_set)"
      ],
      "metadata": {
        "id": "YeMS8l-81hDo"
      },
      "execution_count": null,
      "outputs": []
    },
    {
      "cell_type": "code",
      "source": [
        "#24. Write a code to add the element 6 to the set {1, 2, 3, 4}.\n",
        "\n",
        "my_set = {1, 2, 3, 4}\n",
        "my_set.add(6)\n",
        "print(my_set)"
      ],
      "metadata": {
        "id": "GCOFscpE1r2L"
      },
      "execution_count": null,
      "outputs": []
    }
  ]
}